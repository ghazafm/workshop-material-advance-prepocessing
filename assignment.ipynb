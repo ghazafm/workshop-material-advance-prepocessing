{
 "cells": [
  {
   "cell_type": "markdown",
   "metadata": {},
   "source": [
    "# Data Preprocessing Assignment\n",
    "> **Due Date**: 8 Maret 2025  "
   ]
  },
  {
   "cell_type": "markdown",
   "metadata": {},
   "source": [
    "## Instruksi  \n",
    "- Selesaikan semua latihan dalam notebook ini  \n",
    "- Biarkan semua sel kode yang ada dan tambahkan solusi Kalian di area yang telah ditentukan  \n",
    "- Tambahkan comment pada kode Kalian untuk menjelaskan kode tersebut\n",
    "- Kalian boleh menggunakan sumber eksternal, tetapi pekerjaan harus merupakan hasil sendiri  \n",
    "- Jika ada pertanyaan, hubungi panitia"
   ]
  },
  {
   "cell_type": "markdown",
   "metadata": {},
   "source": [
    "## Setup\n",
    "Run this cell to import required libraries:"
   ]
  },
  {
   "cell_type": "code",
   "execution_count": null,
   "metadata": {},
   "outputs": [],
   "source": [
    "import pandas as pd\n",
    "import numpy as np\n",
    "import matplotlib.pyplot as plt\n",
    "import seaborn as sns\n",
    "from sklearn.preprocessing import LabelEncoder, OneHotEncoder, OrdinalEncoder, StandardScaler\n",
    "from sklearn.model_selection import train_test_split\n",
    "from sklearn.metrics import accuracy_score\n",
    "\n",
    "# Visualisasi\n",
    "plt.style.use('ggplot')\n",
    "sns.set(style=\"whitegrid\")\n",
    "\n",
    "# Suppress warnings\n",
    "import warnings\n",
    "warnings.filterwarnings('ignore')"
   ]
  },
  {
   "cell_type": "markdown",
   "metadata": {},
   "source": [
    "## Part 1: Handling Missing Values"
   ]
  },
  {
   "cell_type": "markdown",
   "metadata": {},
   "source": [
    "### Exercise 1.1: Identifying Missing Values\n",
    "Kita akan memulai dengan dataset sederhana yang berisi informasi tentang karyawan."
   ]
  },
  {
   "cell_type": "code",
   "execution_count": null,
   "metadata": {},
   "outputs": [],
   "source": [
    "# Load the dataset\n",
    "employee_data = {\n",
    "    'Employee_ID': [101, 102, 103, 104, 105, 106, 107, 108, 109, 110],\n",
    "    'Name': ['Ghaza', 'Irul', 'Hilmi', 'Yasin', 'Fajar', 'Pieter', 'Toni', 'Radit', 'Afe', 'Rafly'],\n",
    "    'Department': ['IT', 'HR', 'Finance', 'IT', None, 'Finance', 'HR', None, 'IT', 'Finance'],\n",
    "    'Salary': [5000, None, 4500, 5500, 4000, None, 4200, 5100, None, 4800],\n",
    "    'Age': [28, 35, None, 42, 31, 45, None, 36, 29, None],\n",
    "    'Experience': [3, 7, 5, None, 2, 10, 4, None, 6, 8]\n",
    "}\n",
    "\n",
    "employees = pd.DataFrame(employee_data)\n",
    "print(\"Employee DataFrame:\")\n",
    "display(employees)"
   ]
  },
  {
   "cell_type": "markdown",
   "metadata": {},
   "source": [
    "**Tasks:**\n",
    "1. Temukan jumlah total nilai yang hilang di seluruh dataset.  \n",
    "2. Identifikasi kolom mana yang memiliki nilai hilang terbanyak.  \n",
    "3. Hitung persentase nilai yang hilang pada kolom 'Age'.  \n",
    "4. Buat visualisasi yang menunjukkan jumlah nilai hilang untuk setiap kolom."
   ]
  },
  {
   "cell_type": "code",
   "execution_count": null,
   "metadata": {},
   "outputs": [],
   "source": [
    "# Your code here"
   ]
  },
  {
   "cell_type": "markdown",
   "metadata": {},
   "source": [
    "### Exercise 1.2: Handling Missing Values\n",
    "Sekarang, mari tangani nilai yang hilang menggunakan berbagai teknik."
   ]
  },
  {
   "cell_type": "markdown",
   "metadata": {},
   "source": [
    "**Tasks:**\n",
    "1. Lakukan Imputasi pada nilai null pada data \n",
    "2. Hitung statistik (mean, median, standar deviasi) untuk kolom numerik sebelum dan sesudah imputasi.  \n",
    "3. Buat visualisasi yang membandingkan distribusi nilai sebelum dan sesudah imputasi untuk setiap kolom numerik.  \n",
    "4. Tulis analisis singkat (2-3 kalimat) yang menjelaskan apakah metode imputasi berhasil mempertahankan distribusi data yang mendasarinya."
   ]
  },
  {
   "cell_type": "code",
   "execution_count": null,
   "metadata": {},
   "outputs": [],
   "source": [
    "# Your code here\n",
    "\n",
    "'''\n",
    "[Your analysis here]\n",
    "'''"
   ]
  },
  {
   "cell_type": "markdown",
   "metadata": {},
   "source": [
    "## Part 2: Dealing with Outliers"
   ]
  },
  {
   "cell_type": "markdown",
   "metadata": {},
   "source": [
    "### Exercise 2.1: Detecting Outliers with Z-Score\n",
    "dataset yang berisi informasi transaksi pelanggan."
   ]
  },
  {
   "cell_type": "code",
   "execution_count": null,
   "metadata": {},
   "outputs": [],
   "source": [
    "# Generate dataset\n",
    "np.random.seed(42)\n",
    "n = 100\n",
    "transaction_data = {\n",
    "    'Customer_ID': range(1, n+1),\n",
    "    'Purchase_Amount': np.random.normal(500, 100, n).tolist(),\n",
    "    'Items_Purchased': np.random.poisson(5, n).tolist(),\n",
    "    'Time_Spent_Minutes': np.random.gamma(5, 10, n).tolist()\n",
    "}\n",
    "\n",
    "# Tambah outliers\n",
    "transaction_data['Purchase_Amount'][10] = 2000\n",
    "transaction_data['Purchase_Amount'][50] = 1500\n",
    "transaction_data['Items_Purchased'][30] = 25\n",
    "transaction_data['Time_Spent_Minutes'][70] = 200\n",
    "\n",
    "transactions = pd.DataFrame(transaction_data)\n",
    "print(\"Transaction DataFrame:\")\n",
    "display(transactions.head())\n",
    "\n",
    "# Basic statistics\n",
    "print(\"\\nBasic Statistics:\")\n",
    "display(transactions.describe())"
   ]
  },
  {
   "cell_type": "markdown",
   "metadata": {},
   "source": [
    "**Tasks:**\n",
    "1. Implementasikan fungsi untuk menghitung Z-score pada sebuah kolom tertentu.  \n",
    "2. Terapkan fungsi ini untuk mengidentifikasi outlier pada kolom 'Purchase_Amount', 'Items_Purchased', dan 'Time_Spent_Minutes'  \n",
    "   (gunakan ambang batas Z-score > 3 atau < -3).  \n",
    "3. Buat diagram box plot untuk setiap kolom tersebut, dengan menyoroti nilai outlier.  \n",
    "4. Hitung persentase data yang merupakan outlier untuk setiap kolom."
   ]
  },
  {
   "cell_type": "code",
   "execution_count": null,
   "metadata": {},
   "outputs": [],
   "source": [
    "# Your code here"
   ]
  },
  {
   "cell_type": "markdown",
   "metadata": {},
   "source": [
    "### Exercise 2.2: Treating Outliers\n",
    "Sekarang, mari tangani outlier ini dengan metode yang berbeda"
   ]
  },
  {
   "cell_type": "markdown",
   "metadata": {},
   "source": [
    "**Tasks:**\n",
    "**Tugas:**  \n",
    "1. Buat tiga salinan dari dataframe transaksi:  \n",
    "   - Pada salinan pertama, hapus semua baris yang mengandung outlier.  \n",
    "   - Pada salinan kedua, batasi nilai outlier pada ambang batas (winsorization).  \n",
    "   - Pada salinan ketiga, ganti nilai outlier dengan median dari kolom tersebut.  \n",
    "2. Hitung statistik ringkasan untuk setiap versi dataset.  \n",
    "3. Buat visualisasi yang membandingkan distribusi setiap kolom di antara ketiga metode tersebut.  \n",
    "4. Diskusikan dalam 3-4 kalimat metode mana yang paling sesuai untuk dataset ini dan alasan di baliknya."
   ]
  },
  {
   "cell_type": "code",
   "execution_count": null,
   "metadata": {},
   "outputs": [],
   "source": [
    "# Your code here\n",
    "\n",
    "'''\n",
    "[Your discussion here]\n",
    "'''"
   ]
  },
  {
   "cell_type": "markdown",
   "metadata": {},
   "source": [
    "## Part 3: Data Encoding"
   ]
  },
  {
   "cell_type": "markdown",
   "metadata": {},
   "source": [
    "### Exercise 3.1: Encoding Categorical Data\n",
    "Dataset yang berisi informasi tentang produk."
   ]
  },
  {
   "cell_type": "code",
   "execution_count": null,
   "metadata": {},
   "outputs": [],
   "source": [
    "# Create dataset\n",
    "product_data = {\n",
    "    'Product_ID': ['P001', 'P002', 'P003', 'P004', 'P005', 'P006', 'P007', 'P008', 'P009', 'P010'],\n",
    "    'Category': ['Electronics', 'Clothing', 'Home', 'Electronics', 'Food', 'Clothing', 'Home', 'Food', 'Electronics', 'Clothing'],\n",
    "    'Quality_Rating': ['High', 'Medium', 'Low', 'High', 'Medium', 'High', 'Medium', 'Low', 'Medium', 'High'],\n",
    "    'Shipping': ['Express', 'Standard', 'Express', 'Express', 'Standard', 'Express', 'Standard', 'Standard', 'Express', 'Standard'],\n",
    "    'Price': [1200, 89, 299, 850, 24, 120, 450, 35, 780, 75]\n",
    "}\n",
    "\n",
    "products = pd.DataFrame(product_data)\n",
    "print(\"Products DataFrame:\")\n",
    "display(products)"
   ]
  },
  {
   "cell_type": "markdown",
   "metadata": {},
   "source": [
    "**Tasks:**\n",
    "1. Terapkan label encoding pada kolom 'Shipping'.  \n",
    "2. Terapkan one-hot encoding pada kolom 'Category'.  \n",
    "3. Terapkan ordinal encoding pada kolom 'Quality_Rating' (Rendah < Sedang < Tinggi).  \n",
    "4. Buat dataframe baru yang menggabungkan semua hasil encoding dengan tepat.  \n",
    "5. Visualisasikan hubungan antara 'Price' dan setiap variabel kategori yang telah diencoding."
   ]
  },
  {
   "cell_type": "code",
   "execution_count": null,
   "metadata": {},
   "outputs": [],
   "source": [
    "# Your code here"
   ]
  },
  {
   "cell_type": "markdown",
   "metadata": {},
   "source": [
    "## Part 4: Feature Engineering and Scaling"
   ]
  },
  {
   "cell_type": "markdown",
   "metadata": {},
   "source": [
    "### Exercise 4.1: Feature Scaling\n",
    "Dataset yang berisi informasi tentang rumah-rumah."
   ]
  },
  {
   "cell_type": "code",
   "execution_count": null,
   "metadata": {},
   "outputs": [],
   "source": [
    "# Generate dataset\n",
    "np.random.seed(42)\n",
    "n = 150\n",
    "house_data = {\n",
    "    'Size_sqft': np.random.normal(2000, 500, n).astype(int), ## sqft == square foot\n",
    "    'Price': np.random.normal(300000, 75000, n).astype(int),\n",
    "    'Distance_to_City_km': np.random.gamma(10, 2, n),\n",
    "    'Age_years': np.random.poisson(25, n),\n",
    "    'Rooms': np.random.poisson(4, n) + 1\n",
    "}\n",
    "\n",
    "houses = pd.DataFrame(house_data)\n",
    "print(\"Houses DataFrame:\")\n",
    "display(houses.head())\n",
    "\n",
    "# Basic statistics\n",
    "print(\"\\nBasic Statistics:\")\n",
    "display(houses.describe())"
   ]
  },
  {
   "cell_type": "markdown",
   "metadata": {},
   "source": [
    "**Tasks:**\n",
    "1. Terapkan StandardScaler pada semua kolom numerik.  \n",
    "2. Buat pair plot yang menunjukkan hubungan antara variabel sebelum dan sesudah scaling.  \n",
    "3. Hitung matriks korelasi untuk data asli dan data yang telah di-scaling.  \n",
    "4. Buat heatmap untuk memvisualisasikan kedua matriks korelasi.  \n",
    "5. Jelaskan dalam 2-3 kalimat perbedaan yang Anda amati dan mengapa perbedaan tersebut terjadi (atau tidak terjadi)."
   ]
  },
  {
   "cell_type": "code",
   "execution_count": null,
   "metadata": {},
   "outputs": [],
   "source": [
    "# Your code here\n",
    "\n",
    "'''\n",
    "[Your explanation here]\n",
    "'''"
   ]
  },
  {
   "cell_type": "markdown",
   "metadata": {},
   "source": [
    "### Exercise 4.2: Feature Engineering (15 points)\n",
    "Sekarang, mari kita buat beberapa fitur baru yang mungkin dapat membantu dalam memprediksi harga rumah."
   ]
  },
  {
   "cell_type": "markdown",
   "metadata": {},
   "source": [
    "**Tasks:**  \n",
    "1. Buat fitur baru berikut:  \n",
    "   - Harga per meter persegi  \n",
    "   - Kepadatan ruangan (jumlah ruangan per meter persegi)  \n",
    "   - Kategori usia rumah (kelompokkan usia menjadi: Baru (0-5 tahun), Relatif Baru (6-15 tahun), Mapan (16-30 tahun), Tua (31+ tahun))  \n",
    "   - Kategori jarak (kelompokkan jarak menjadi: Dekat (0-5 km), Sedang (6-15 km), Jauh (16+ km))  \n",
    "2. Visualisasikan hubungan antara setiap fitur baru dengan harga rumah  \n",
    "3. Hitung korelasi antara setiap fitur baru dengan harga rumah"
   ]
  },
  {
   "cell_type": "code",
   "execution_count": null,
   "metadata": {},
   "outputs": [],
   "source": [
    "# Your code here\n",
    "\n",
    "'''\n",
    "[Your comparison and discussion here]\n",
    "'''"
   ]
  },
  {
   "cell_type": "markdown",
   "metadata": {},
   "source": [
    "## Submission Instructions\n",
    "1. Pastikan Anda telah menyelesaikan semua bagian tugas.  \n",
    "2. Simpan notebook dengan format nama file: `DataPrep_Assignment_Nama.ipynb`.  \n",
    "3. Kirimkan melalui link form yang telah disediakan paling lambat 8 Maret 2025.  \n",
    "4. Tambahkan catatan dalam sel teks di bawah ini.(optional)"
   ]
  },
  {
   "cell_type": "markdown",
   "metadata": {},
   "source": [
    "[Your notes here]"
   ]
  }
 ],
 "metadata": {
  "kernelspec": {
   "display_name": "ML",
   "language": "python",
   "name": "python3"
  },
  "language_info": {
   "codemirror_mode": {
    "name": "ipython",
    "version": 3
   },
   "file_extension": ".py",
   "mimetype": "text/x-python",
   "name": "python",
   "nbconvert_exporter": "python",
   "pygments_lexer": "ipython3",
   "version": "3.9.21"
  }
 },
 "nbformat": 4,
 "nbformat_minor": 2
}
